{
 "cells": [
  {
   "cell_type": "markdown",
   "id": "320934c4",
   "metadata": {
    "papermill": {
     "duration": 0.004723,
     "end_time": "2024-09-10T12:28:04.997298",
     "exception": false,
     "start_time": "2024-09-10T12:28:04.992575",
     "status": "completed"
    },
    "tags": []
   },
   "source": [
    "This notebook is an update of https://www.kaggle.com/code/sergeifironov/ariel-only-correlation\n",
    "from Sergei Fironov\n",
    "\n",
    "Updates :\n",
    "- keep 10:22 pixels from the 32 (the image are well centred)\n",
    "- Use the derivative for the determination of the beginning and end of the signal during eclipse (idea from Reza R. Choubeh)\n",
    "- 'Simplification' of the code for minimize\n",
    "- Degree of polyfit <= 4\n",
    "- Predictions of test after training Ridge regression with the modelization results (targets predictions with modelization) and the True targets. "
   ]
  },
  {
   "cell_type": "markdown",
   "id": "a90d5b47",
   "metadata": {
    "papermill": {
     "duration": 0.003708,
     "end_time": "2024-09-10T12:28:05.005072",
     "exception": false,
     "start_time": "2024-09-10T12:28:05.001364",
     "status": "completed"
    },
    "tags": []
   },
   "source": [
    "# Librairies"
   ]
  },
  {
   "cell_type": "code",
   "execution_count": 1,
   "id": "3a8c9302",
   "metadata": {
    "_cell_guid": "b1076dfc-b9ad-4769-8c92-a6c4dae69d19",
    "_uuid": "8f2839f25d086af736a60e9eeb907d3b93b6e0e5",
    "execution": {
     "iopub.execute_input": "2024-09-10T12:28:05.015323Z",
     "iopub.status.busy": "2024-09-10T12:28:05.014735Z",
     "iopub.status.idle": "2024-09-10T12:28:07.486195Z",
     "shell.execute_reply": "2024-09-10T12:28:07.485018Z"
    },
    "papermill": {
     "duration": 2.47994,
     "end_time": "2024-09-10T12:28:07.488914",
     "exception": false,
     "start_time": "2024-09-10T12:28:05.008974",
     "status": "completed"
    },
    "tags": []
   },
   "outputs": [],
   "source": [
    "import pandas as pd\n",
    "import matplotlib.pyplot as plt\n",
    "import numpy as np\n",
    "from tqdm import tqdm\n",
    "import joblib\n",
    "\n",
    "from sklearn.linear_model import Ridge\n",
    "from sklearn.metrics import r2_score, mean_squared_error\n",
    "import itertools\n",
    "\n",
    "from scipy.optimize import minimize\n",
    "from scipy import optimize\n",
    "\n",
    "from astropy.stats import sigma_clip"
   ]
  },
  {
   "cell_type": "code",
   "execution_count": 2,
   "id": "c1708915",
   "metadata": {
    "execution": {
     "iopub.execute_input": "2024-09-10T12:28:07.498494Z",
     "iopub.status.busy": "2024-09-10T12:28:07.497916Z",
     "iopub.status.idle": "2024-09-10T12:28:07.685060Z",
     "shell.execute_reply": "2024-09-10T12:28:07.683743Z"
    },
    "papermill": {
     "duration": 0.195367,
     "end_time": "2024-09-10T12:28:07.688183",
     "exception": false,
     "start_time": "2024-09-10T12:28:07.492816",
     "status": "completed"
    },
    "tags": []
   },
   "outputs": [],
   "source": [
    "dataset = 'test'\n",
    "adc_info = pd.read_csv('/kaggle/input/ariel-data-challenge-2024/'+f'{dataset}_adc_info.csv',index_col='planet_id')\n",
    "axis_info = pd.read_parquet('/kaggle/input/ariel-data-challenge-2024/axis_info.parquet')"
   ]
  },
  {
   "cell_type": "markdown",
   "id": "e73c37ee",
   "metadata": {
    "papermill": {
     "duration": 0.003542,
     "end_time": "2024-09-10T12:28:07.695634",
     "exception": false,
     "start_time": "2024-09-10T12:28:07.692092",
     "status": "completed"
    },
    "tags": []
   },
   "source": [
    "# Calibration"
   ]
  },
  {
   "cell_type": "code",
   "execution_count": 3,
   "id": "3d666d52",
   "metadata": {
    "execution": {
     "iopub.execute_input": "2024-09-10T12:28:07.705440Z",
     "iopub.status.busy": "2024-09-10T12:28:07.704983Z",
     "iopub.status.idle": "2024-09-10T12:28:19.503476Z",
     "shell.execute_reply": "2024-09-10T12:28:19.502222Z"
    },
    "papermill": {
     "duration": 11.807067,
     "end_time": "2024-09-10T12:28:19.506546",
     "exception": false,
     "start_time": "2024-09-10T12:28:07.699479",
     "status": "completed"
    },
    "tags": []
   },
   "outputs": [
    {
     "name": "stderr",
     "output_type": "stream",
     "text": [
      "100%|██████████| 1/1 [00:06<00:00,  6.32s/it]\n",
      "100%|██████████| 1/1 [00:05<00:00,  5.44s/it]\n"
     ]
    }
   ],
   "source": [
    "def apply_linear_corr(linear_corr,clean_signal):\n",
    "    linear_corr = np.flip(linear_corr, axis=0)\n",
    "    for x, y in itertools.product(\n",
    "                range(clean_signal.shape[1]), range(clean_signal.shape[2])\n",
    "            ):\n",
    "        poli = np.poly1d(linear_corr[:, x, y])\n",
    "        clean_signal[:, x, y] = poli(clean_signal[:, x, y])\n",
    "    return clean_signal\n",
    "\n",
    "def clean_dark(signal, dark, dt):\n",
    "    dark = np.tile(dark, (signal.shape[0], 1, 1))\n",
    "    signal -= dark* dt[:, np.newaxis, np.newaxis]\n",
    "    return signal\n",
    "\n",
    "def preproc(dataset, adc_info, sensor, binning = 15):\n",
    "    cut_inf, cut_sup = 39, 321\n",
    "    sensor_sizes_dict = {\"AIRS-CH0\":[[11250, 32, 356], [1, 32, cut_sup-cut_inf]], \"FGS1\":[[135000, 32, 32], [1, 32, 32]]}\n",
    "    binned_dict = {\"AIRS-CH0\":[11250 // binning // 2, 282], \"FGS1\":[135000 // binning // 2]}\n",
    "    linear_corr_dict = {\"AIRS-CH0\":(6, 32, 356), \"FGS1\":(6, 32, 32)}\n",
    "    planet_ids = adc_info.index\n",
    "    \n",
    "    feats = []\n",
    "    for i, planet_id in tqdm(list(enumerate(planet_ids))):\n",
    "        signal = pd.read_parquet(f'/kaggle/input/ariel-data-challenge-2024/{dataset}/{planet_id}/{sensor}_signal.parquet').to_numpy()\n",
    "        dark_frame = pd.read_parquet(f'/kaggle/input/ariel-data-challenge-2024/{dataset}/' + str(planet_id) + '/' + sensor + '_calibration/dark.parquet', engine='pyarrow').to_numpy()\n",
    "        dead_frame = pd.read_parquet(f'/kaggle/input/ariel-data-challenge-2024/{dataset}/' + str(planet_id) + '/' + sensor + '_calibration/dead.parquet', engine='pyarrow').to_numpy()\n",
    "        flat_frame = pd.read_parquet(f'/kaggle/input/ariel-data-challenge-2024/{dataset}/' + str(planet_id) + '/' + sensor + '_calibration/flat.parquet', engine='pyarrow').to_numpy()\n",
    "        linear_corr = pd.read_parquet(f'/kaggle/input/ariel-data-challenge-2024/{dataset}/' + str(planet_id) + '/' + sensor + '_calibration/linear_corr.parquet').values.astype(np.float64).reshape(linear_corr_dict[sensor])\n",
    "\n",
    "        signal = signal.reshape(sensor_sizes_dict[sensor][0]) \n",
    "        gain = adc_info[f'{sensor}_adc_gain'].values[i]\n",
    "        offset = adc_info[f'{sensor}_adc_offset'].values[i]\n",
    "        signal = signal / gain + offset\n",
    "        \n",
    "        hot = sigma_clip(\n",
    "            dark_frame, sigma=5, maxiters=5\n",
    "        ).mask\n",
    "        \n",
    "        if sensor != \"FGS1\":\n",
    "            signal = signal[:, :, cut_inf:cut_sup] \n",
    "            dt = np.ones(len(signal))*0.1 \n",
    "            dt[1::2] += 4.5 #@bilzard idea\n",
    "            linear_corr = linear_corr[:, :, cut_inf:cut_sup]\n",
    "            dark_frame = dark_frame[:, cut_inf:cut_sup]\n",
    "            dead_frame = dead_frame[:, cut_inf:cut_sup]\n",
    "            flat_frame = flat_frame[:, cut_inf:cut_sup]\n",
    "            hot = hot[:, cut_inf:cut_sup]\n",
    "        else:\n",
    "            dt = np.ones(len(signal))*0.1\n",
    "            dt[1::2] += 0.1\n",
    "            \n",
    "        signal = signal.clip(0) #@graySnow idea\n",
    "        linear_corr_signal = apply_linear_corr(linear_corr, signal)\n",
    "        signal = clean_dark(linear_corr_signal, dark_frame, dt)\n",
    "        \n",
    "        flat = flat_frame.reshape(sensor_sizes_dict[sensor][1])\n",
    "        flat[dead_frame.reshape(sensor_sizes_dict[sensor][1])] = np.nan\n",
    "        flat[hot.reshape(sensor_sizes_dict[sensor][1])] = np.nan\n",
    "        signal = signal / flat\n",
    "        \n",
    "        \n",
    "        if sensor == \"FGS1\":\n",
    "            signal = signal[:,10:22,10:22] # **** updates ****\n",
    "            signal = signal.reshape(sensor_sizes_dict[sensor][0][0],144) # # **** updates ****\n",
    "\n",
    "        if sensor != \"FGS1\":\n",
    "            signal = signal[:,10:22,:] # **** updates ****\n",
    "\n",
    "        mean_signal = np.nanmean(signal, axis=1) \n",
    "        cds_signal = (mean_signal[1::2] - mean_signal[0::2])\n",
    "        \n",
    "        binned = np.zeros((binned_dict[sensor]))\n",
    "        for j in range(cds_signal.shape[0] // binning):\n",
    "            binned[j] = cds_signal[j*binning:j*binning+binning].mean(axis=0) \n",
    "                   \n",
    "        if sensor == \"FGS1\":\n",
    "            binned = binned.reshape((binned.shape[0],1))\n",
    "        \n",
    "        feats.append(binned)\n",
    "        \n",
    "    return np.stack(feats)\n",
    "    \n",
    "pre_train = np.concatenate([preproc(f'{dataset}', adc_info, \"FGS1\", 30*12), preproc(f'{dataset}', adc_info, \"AIRS-CH0\", 30)], axis=2)"
   ]
  },
  {
   "cell_type": "markdown",
   "id": "23134226",
   "metadata": {
    "papermill": {
     "duration": 0.006032,
     "end_time": "2024-09-10T12:28:19.519376",
     "exception": false,
     "start_time": "2024-09-10T12:28:19.513344",
     "status": "completed"
    },
    "tags": []
   },
   "source": [
    "# Modelization"
   ]
  },
  {
   "cell_type": "code",
   "execution_count": 4,
   "id": "55039ded",
   "metadata": {
    "execution": {
     "iopub.execute_input": "2024-09-10T12:28:19.531413Z",
     "iopub.status.busy": "2024-09-10T12:28:19.530856Z",
     "iopub.status.idle": "2024-09-10T12:28:19.613513Z",
     "shell.execute_reply": "2024-09-10T12:28:19.612223Z"
    },
    "papermill": {
     "duration": 0.091753,
     "end_time": "2024-09-10T12:28:19.616439",
     "exception": false,
     "start_time": "2024-09-10T12:28:19.524686",
     "status": "completed"
    },
    "tags": []
   },
   "outputs": [
    {
     "name": "stderr",
     "output_type": "stream",
     "text": [
      "100%|██████████| 1/1 [00:00<00:00, 17.86it/s]\n"
     ]
    }
   ],
   "source": [
    "def phase_detector(signal):\n",
    "    \n",
    "    MIN = np.argmin(signal[30:140])+30\n",
    "    signal1 = signal[:MIN ]\n",
    "    signal2 = signal[MIN :]\n",
    "\n",
    "    first_derivative1 = np.gradient(signal1)\n",
    "    first_derivative1 /= first_derivative1.max()\n",
    "    first_derivative2 = np.gradient(signal2)\n",
    "    first_derivative2 /= first_derivative2.max()\n",
    "\n",
    "    phase1 = np.argmin(first_derivative1)\n",
    "    phase2 = np.argmax(first_derivative2) + MIN\n",
    "\n",
    "    return phase1, phase2\n",
    "    \n",
    "def objective(s):\n",
    "    \n",
    "    best_q = 1e10\n",
    "    for i in range(4) :\n",
    "        delta = 2\n",
    "        x = list(range(signal.shape[0]-delta*4))\n",
    "        y = signal[:p1-delta].tolist() + (signal[p1+delta:p2 - delta] * (1 + s)).tolist() + signal[p2+delta:].tolist()\n",
    "        \n",
    "        z = np.polyfit(x, y, deg=i)\n",
    "        p = np.poly1d(z)\n",
    "        q = np.abs(p(x) - y).mean()\n",
    "    \n",
    "    if q < best_q :\n",
    "        best_q = q\n",
    "    \n",
    "    return q\n",
    "\n",
    "\n",
    "all_s = []\n",
    "for i in tqdm(range(len(adc_info))):\n",
    "    \n",
    "    signal = pre_train[i,:,1:].mean(axis=1)\n",
    "    p1,p2 = phase_detector(signal)\n",
    " \n",
    "    r = minimize(\n",
    "                objective,\n",
    "                [0.0001],\n",
    "                method= 'Nelder-Mead'\n",
    "                  )\n",
    "    s = r.x[0]\n",
    "    all_s.append(s)\n",
    "    \n",
    "all_s = np.repeat(np.array(all_s), 283).reshape((len(all_s), 283))        "
   ]
  },
  {
   "cell_type": "markdown",
   "id": "d944df60",
   "metadata": {
    "papermill": {
     "duration": 0.005278,
     "end_time": "2024-09-10T12:28:19.626383",
     "exception": false,
     "start_time": "2024-09-10T12:28:19.621105",
     "status": "completed"
    },
    "tags": []
   },
   "source": [
    "# Predictions with Ridge model"
   ]
  },
  {
   "cell_type": "code",
   "execution_count": 5,
   "id": "fc4bb685",
   "metadata": {
    "execution": {
     "iopub.execute_input": "2024-09-10T12:28:19.638866Z",
     "iopub.status.busy": "2024-09-10T12:28:19.638328Z",
     "iopub.status.idle": "2024-09-10T12:28:19.644010Z",
     "shell.execute_reply": "2024-09-10T12:28:19.642876Z"
    },
    "papermill": {
     "duration": 0.0147,
     "end_time": "2024-09-10T12:28:19.646796",
     "exception": false,
     "start_time": "2024-09-10T12:28:19.632096",
     "status": "completed"
    },
    "tags": []
   },
   "outputs": [],
   "source": [
    "# pd.DataFrame(all_s)"
   ]
  },
  {
   "cell_type": "code",
   "execution_count": 6,
   "id": "cb5322af",
   "metadata": {
    "execution": {
     "iopub.execute_input": "2024-09-10T12:28:19.663063Z",
     "iopub.status.busy": "2024-09-10T12:28:19.662630Z",
     "iopub.status.idle": "2024-09-10T12:28:19.668103Z",
     "shell.execute_reply": "2024-09-10T12:28:19.666604Z"
    },
    "papermill": {
     "duration": 0.016689,
     "end_time": "2024-09-10T12:28:19.670816",
     "exception": false,
     "start_time": "2024-09-10T12:28:19.654127",
     "status": "completed"
    },
    "tags": []
   },
   "outputs": [],
   "source": [
    "# model = joblib.load(\"/kaggle/input/adc24-meta-model-ridge/model_ridge_10_22_delta2.joblib\")\n",
    "# pred = model.predict(all_s)\n",
    "# pd.DataFrame(pred)\n",
    "# import pickle\n",
    "# with open('/kaggle/input/ad24-train-inf-ridge-addfe-lb-441/model.pickle', 'rb') as f:\n",
    "#     model = pickle.load(f)\n",
    "# pred = model.predict(all_s)\n",
    "# pd.DataFrame(pred)"
   ]
  },
  {
   "cell_type": "markdown",
   "id": "de3fd47c",
   "metadata": {
    "papermill": {
     "duration": 0.004414,
     "end_time": "2024-09-10T12:28:19.680143",
     "exception": false,
     "start_time": "2024-09-10T12:28:19.675729",
     "status": "completed"
    },
    "tags": []
   },
   "source": [
    "# Submission"
   ]
  },
  {
   "cell_type": "code",
   "execution_count": 7,
   "id": "e4dd0d2c",
   "metadata": {
    "execution": {
     "iopub.execute_input": "2024-09-10T12:28:19.691338Z",
     "iopub.status.busy": "2024-09-10T12:28:19.690811Z",
     "iopub.status.idle": "2024-09-10T12:28:19.744396Z",
     "shell.execute_reply": "2024-09-10T12:28:19.743114Z"
    },
    "papermill": {
     "duration": 0.062213,
     "end_time": "2024-09-10T12:28:19.746991",
     "exception": false,
     "start_time": "2024-09-10T12:28:19.684778",
     "status": "completed"
    },
    "tags": []
   },
   "outputs": [
    {
     "data": {
      "text/html": [
       "<div>\n",
       "<style scoped>\n",
       "    .dataframe tbody tr th:only-of-type {\n",
       "        vertical-align: middle;\n",
       "    }\n",
       "\n",
       "    .dataframe tbody tr th {\n",
       "        vertical-align: top;\n",
       "    }\n",
       "\n",
       "    .dataframe thead th {\n",
       "        text-align: right;\n",
       "    }\n",
       "</style>\n",
       "<table border=\"1\" class=\"dataframe\">\n",
       "  <thead>\n",
       "    <tr style=\"text-align: right;\">\n",
       "      <th></th>\n",
       "      <th>wl_1</th>\n",
       "      <th>wl_2</th>\n",
       "      <th>wl_3</th>\n",
       "      <th>wl_4</th>\n",
       "      <th>wl_5</th>\n",
       "      <th>wl_6</th>\n",
       "      <th>wl_7</th>\n",
       "      <th>wl_8</th>\n",
       "      <th>wl_9</th>\n",
       "      <th>wl_10</th>\n",
       "      <th>...</th>\n",
       "      <th>sigma_274</th>\n",
       "      <th>sigma_275</th>\n",
       "      <th>sigma_276</th>\n",
       "      <th>sigma_277</th>\n",
       "      <th>sigma_278</th>\n",
       "      <th>sigma_279</th>\n",
       "      <th>sigma_280</th>\n",
       "      <th>sigma_281</th>\n",
       "      <th>sigma_282</th>\n",
       "      <th>sigma_283</th>\n",
       "    </tr>\n",
       "    <tr>\n",
       "      <th>planet_id</th>\n",
       "      <th></th>\n",
       "      <th></th>\n",
       "      <th></th>\n",
       "      <th></th>\n",
       "      <th></th>\n",
       "      <th></th>\n",
       "      <th></th>\n",
       "      <th></th>\n",
       "      <th></th>\n",
       "      <th></th>\n",
       "      <th></th>\n",
       "      <th></th>\n",
       "      <th></th>\n",
       "      <th></th>\n",
       "      <th></th>\n",
       "      <th></th>\n",
       "      <th></th>\n",
       "      <th></th>\n",
       "      <th></th>\n",
       "      <th></th>\n",
       "      <th></th>\n",
       "    </tr>\n",
       "  </thead>\n",
       "  <tbody>\n",
       "    <tr>\n",
       "      <th>499191466</th>\n",
       "      <td>0.002725</td>\n",
       "      <td>0.002725</td>\n",
       "      <td>0.002725</td>\n",
       "      <td>0.002725</td>\n",
       "      <td>0.002725</td>\n",
       "      <td>0.002725</td>\n",
       "      <td>0.002725</td>\n",
       "      <td>0.002725</td>\n",
       "      <td>0.002725</td>\n",
       "      <td>0.002725</td>\n",
       "      <td>...</td>\n",
       "      <td>0.000145</td>\n",
       "      <td>0.000145</td>\n",
       "      <td>0.000145</td>\n",
       "      <td>0.000145</td>\n",
       "      <td>0.000145</td>\n",
       "      <td>0.000145</td>\n",
       "      <td>0.000145</td>\n",
       "      <td>0.000145</td>\n",
       "      <td>0.000145</td>\n",
       "      <td>0.000145</td>\n",
       "    </tr>\n",
       "  </tbody>\n",
       "</table>\n",
       "<p>1 rows × 566 columns</p>\n",
       "</div>"
      ],
      "text/plain": [
       "               wl_1      wl_2      wl_3      wl_4      wl_5      wl_6  \\\n",
       "planet_id                                                               \n",
       "499191466  0.002725  0.002725  0.002725  0.002725  0.002725  0.002725   \n",
       "\n",
       "               wl_7      wl_8      wl_9     wl_10  ...  sigma_274  sigma_275  \\\n",
       "planet_id                                          ...                         \n",
       "499191466  0.002725  0.002725  0.002725  0.002725  ...   0.000145   0.000145   \n",
       "\n",
       "           sigma_276  sigma_277  sigma_278  sigma_279  sigma_280  sigma_281  \\\n",
       "planet_id                                                                     \n",
       "499191466   0.000145   0.000145   0.000145   0.000145   0.000145   0.000145   \n",
       "\n",
       "           sigma_282  sigma_283  \n",
       "planet_id                        \n",
       "499191466   0.000145   0.000145  \n",
       "\n",
       "[1 rows x 566 columns]"
      ]
     },
     "execution_count": 7,
     "metadata": {},
     "output_type": "execute_result"
    }
   ],
   "source": [
    "ss = pd.read_csv('/kaggle/input/ariel-data-challenge-2024/sample_submission.csv')\n",
    "sigma = np.ones_like(all_s) * 0.000145 \n",
    "pred = all_s.clip(0) \n",
    "submission = pd.DataFrame(np.concatenate([pred,sigma], axis=1), columns=ss.columns[1:])\n",
    "submission.index = adc_info.index\n",
    "submission.to_csv('submission.csv')\n",
    "submission\n"
   ]
  }
 ],
 "metadata": {
  "kaggle": {
   "accelerator": "none",
   "dataSources": [
    {
     "databundleVersionId": 9188054,
     "sourceId": 70367,
     "sourceType": "competition"
    },
    {
     "datasetId": 5628160,
     "sourceId": 9331726,
     "sourceType": "datasetVersion"
    },
    {
     "sourceId": 195695360,
     "sourceType": "kernelVersion"
    }
   ],
   "dockerImageVersionId": 30761,
   "isGpuEnabled": false,
   "isInternetEnabled": false,
   "language": "python",
   "sourceType": "notebook"
  },
  "kernelspec": {
   "display_name": "Python 3",
   "language": "python",
   "name": "python3"
  },
  "language_info": {
   "codemirror_mode": {
    "name": "ipython",
    "version": 3
   },
   "file_extension": ".py",
   "mimetype": "text/x-python",
   "name": "python",
   "nbconvert_exporter": "python",
   "pygments_lexer": "ipython3",
   "version": "3.10.14"
  },
  "papermill": {
   "default_parameters": {},
   "duration": 18.261686,
   "end_time": "2024-09-10T12:28:20.374153",
   "environment_variables": {},
   "exception": null,
   "input_path": "__notebook__.ipynb",
   "output_path": "__notebook__.ipynb",
   "parameters": {},
   "start_time": "2024-09-10T12:28:02.112467",
   "version": "2.6.0"
  }
 },
 "nbformat": 4,
 "nbformat_minor": 5
}
