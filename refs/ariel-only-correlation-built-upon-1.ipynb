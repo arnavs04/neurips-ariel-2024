{
 "cells": [
  {
   "cell_type": "markdown",
   "id": "dc58a30e",
   "metadata": {
    "papermill": {
     "duration": 0.005672,
     "end_time": "2024-09-09T18:39:17.665386",
     "exception": false,
     "start_time": "2024-09-09T18:39:17.659714",
     "status": "completed"
    },
    "tags": []
   },
   "source": [
    "This notebook is an update of https://www.kaggle.com/code/sergeifironov/ariel-only-correlation\n",
    "from Sergei Fironov\n",
    "\n",
    "Updates :\n",
    "- keep 10:22 pixels from the 32 (the image are well centred)\n",
    "- Use the derivative for the determination of the beginning and end of the signal during eclipse (idea from Reza R. Choubeh)\n",
    "- 'Simplification' of the code for minimize\n",
    "- Degree of polyfit <= 4\n",
    "- Predictions of test after training Ridge regression with the modelization results (targets predictions with modelization) and the True targets. "
   ]
  },
  {
   "cell_type": "markdown",
   "id": "b688dd27",
   "metadata": {
    "papermill": {
     "duration": 0.004392,
     "end_time": "2024-09-09T18:39:17.675081",
     "exception": false,
     "start_time": "2024-09-09T18:39:17.670689",
     "status": "completed"
    },
    "tags": []
   },
   "source": [
    "# Librairies"
   ]
  },
  {
   "cell_type": "code",
   "execution_count": 1,
   "id": "90118cda",
   "metadata": {
    "_cell_guid": "b1076dfc-b9ad-4769-8c92-a6c4dae69d19",
    "_uuid": "8f2839f25d086af736a60e9eeb907d3b93b6e0e5",
    "execution": {
     "iopub.execute_input": "2024-09-09T18:39:17.687042Z",
     "iopub.status.busy": "2024-09-09T18:39:17.686456Z",
     "iopub.status.idle": "2024-09-09T18:39:20.540922Z",
     "shell.execute_reply": "2024-09-09T18:39:20.539479Z"
    },
    "papermill": {
     "duration": 2.864392,
     "end_time": "2024-09-09T18:39:20.544113",
     "exception": false,
     "start_time": "2024-09-09T18:39:17.679721",
     "status": "completed"
    },
    "tags": []
   },
   "outputs": [],
   "source": [
    "import pandas as pd\n",
    "import matplotlib.pyplot as plt\n",
    "import numpy as np\n",
    "from tqdm import tqdm\n",
    "import joblib\n",
    "\n",
    "from sklearn.linear_model import Ridge\n",
    "from sklearn.metrics import r2_score, mean_squared_error\n",
    "import itertools\n",
    "\n",
    "from scipy.optimize import minimize\n",
    "from scipy import optimize\n",
    "\n",
    "from astropy.stats import sigma_clip"
   ]
  },
  {
   "cell_type": "code",
   "execution_count": 2,
   "id": "1cbd289d",
   "metadata": {
    "execution": {
     "iopub.execute_input": "2024-09-09T18:39:20.555692Z",
     "iopub.status.busy": "2024-09-09T18:39:20.555095Z",
     "iopub.status.idle": "2024-09-09T18:39:20.733023Z",
     "shell.execute_reply": "2024-09-09T18:39:20.731181Z"
    },
    "papermill": {
     "duration": 0.187092,
     "end_time": "2024-09-09T18:39:20.736102",
     "exception": false,
     "start_time": "2024-09-09T18:39:20.549010",
     "status": "completed"
    },
    "tags": []
   },
   "outputs": [],
   "source": [
    "dataset = 'test'\n",
    "adc_info = pd.read_csv('/kaggle/input/ariel-data-challenge-2024/'+f'{dataset}_adc_info.csv',index_col='planet_id')\n",
    "axis_info = pd.read_parquet('/kaggle/input/ariel-data-challenge-2024/axis_info.parquet')"
   ]
  },
  {
   "cell_type": "markdown",
   "id": "c8ace7bf",
   "metadata": {
    "papermill": {
     "duration": 0.004303,
     "end_time": "2024-09-09T18:39:20.745183",
     "exception": false,
     "start_time": "2024-09-09T18:39:20.740880",
     "status": "completed"
    },
    "tags": []
   },
   "source": [
    "# Calibration"
   ]
  },
  {
   "cell_type": "code",
   "execution_count": 3,
   "id": "9c8613d8",
   "metadata": {
    "execution": {
     "iopub.execute_input": "2024-09-09T18:39:20.757418Z",
     "iopub.status.busy": "2024-09-09T18:39:20.756482Z",
     "iopub.status.idle": "2024-09-09T18:39:33.746059Z",
     "shell.execute_reply": "2024-09-09T18:39:33.744607Z"
    },
    "papermill": {
     "duration": 12.998964,
     "end_time": "2024-09-09T18:39:33.748956",
     "exception": false,
     "start_time": "2024-09-09T18:39:20.749992",
     "status": "completed"
    },
    "tags": []
   },
   "outputs": [
    {
     "name": "stderr",
     "output_type": "stream",
     "text": [
      "100%|██████████| 1/1 [00:06<00:00,  6.82s/it]\n",
      "100%|██████████| 1/1 [00:06<00:00,  6.12s/it]\n"
     ]
    }
   ],
   "source": [
    "def apply_linear_corr(linear_corr,clean_signal):\n",
    "    linear_corr = np.flip(linear_corr, axis=0)\n",
    "    for x, y in itertools.product(\n",
    "                range(clean_signal.shape[1]), range(clean_signal.shape[2])\n",
    "            ):\n",
    "        poli = np.poly1d(linear_corr[:, x, y])\n",
    "        clean_signal[:, x, y] = poli(clean_signal[:, x, y])\n",
    "    return clean_signal\n",
    "\n",
    "def clean_dark(signal, dark, dt):\n",
    "    dark = np.tile(dark, (signal.shape[0], 1, 1))\n",
    "    signal -= dark* dt[:, np.newaxis, np.newaxis]\n",
    "    return signal\n",
    "\n",
    "def preproc(dataset, adc_info, sensor, binning = 15):\n",
    "    cut_inf, cut_sup = 39, 321\n",
    "    sensor_sizes_dict = {\"AIRS-CH0\":[[11250, 32, 356], [1, 32, cut_sup-cut_inf]], \"FGS1\":[[135000, 32, 32], [1, 32, 32]]}\n",
    "    binned_dict = {\"AIRS-CH0\":[11250 // binning // 2, 282], \"FGS1\":[135000 // binning // 2]}\n",
    "    linear_corr_dict = {\"AIRS-CH0\":(6, 32, 356), \"FGS1\":(6, 32, 32)}\n",
    "    planet_ids = adc_info.index\n",
    "    \n",
    "    feats = []\n",
    "    for i, planet_id in tqdm(list(enumerate(planet_ids))):\n",
    "        signal = pd.read_parquet(f'/kaggle/input/ariel-data-challenge-2024/{dataset}/{planet_id}/{sensor}_signal.parquet').to_numpy()\n",
    "        dark_frame = pd.read_parquet(f'/kaggle/input/ariel-data-challenge-2024/{dataset}/' + str(planet_id) + '/' + sensor + '_calibration/dark.parquet', engine='pyarrow').to_numpy()\n",
    "        dead_frame = pd.read_parquet(f'/kaggle/input/ariel-data-challenge-2024/{dataset}/' + str(planet_id) + '/' + sensor + '_calibration/dead.parquet', engine='pyarrow').to_numpy()\n",
    "        flat_frame = pd.read_parquet(f'/kaggle/input/ariel-data-challenge-2024/{dataset}/' + str(planet_id) + '/' + sensor + '_calibration/flat.parquet', engine='pyarrow').to_numpy()\n",
    "        linear_corr = pd.read_parquet(f'/kaggle/input/ariel-data-challenge-2024/{dataset}/' + str(planet_id) + '/' + sensor + '_calibration/linear_corr.parquet').values.astype(np.float64).reshape(linear_corr_dict[sensor])\n",
    "\n",
    "        signal = signal.reshape(sensor_sizes_dict[sensor][0]) \n",
    "        gain = adc_info[f'{sensor}_adc_gain'].values[i]\n",
    "        offset = adc_info[f'{sensor}_adc_offset'].values[i]\n",
    "        signal = signal / gain + offset\n",
    "        \n",
    "        hot = sigma_clip(\n",
    "            dark_frame, sigma=5, maxiters=5\n",
    "        ).mask\n",
    "        \n",
    "        if sensor != \"FGS1\":\n",
    "            signal = signal[:, :, cut_inf:cut_sup] \n",
    "            dt = np.ones(len(signal))*0.1 \n",
    "            dt[1::2] += 4.5 #@bilzard idea\n",
    "            linear_corr = linear_corr[:, :, cut_inf:cut_sup]\n",
    "            dark_frame = dark_frame[:, cut_inf:cut_sup]\n",
    "            dead_frame = dead_frame[:, cut_inf:cut_sup]\n",
    "            flat_frame = flat_frame[:, cut_inf:cut_sup]\n",
    "            hot = hot[:, cut_inf:cut_sup]\n",
    "        else:\n",
    "            dt = np.ones(len(signal))*0.1\n",
    "            dt[1::2] += 0.1\n",
    "            \n",
    "        signal = signal.clip(0) #@graySnow idea\n",
    "        linear_corr_signal = apply_linear_corr(linear_corr, signal)\n",
    "        signal = clean_dark(linear_corr_signal, dark_frame, dt)\n",
    "        \n",
    "        flat = flat_frame.reshape(sensor_sizes_dict[sensor][1])\n",
    "        flat[dead_frame.reshape(sensor_sizes_dict[sensor][1])] = np.nan\n",
    "        flat[hot.reshape(sensor_sizes_dict[sensor][1])] = np.nan\n",
    "        signal = signal / flat\n",
    "        \n",
    "        \n",
    "        if sensor == \"FGS1\":\n",
    "            signal = signal[:,10:22,10:22] # **** updates ****\n",
    "            signal = signal.reshape(sensor_sizes_dict[sensor][0][0],144) # # **** updates ****\n",
    "\n",
    "        if sensor != \"FGS1\":\n",
    "            signal = signal[:,10:22,:] # **** updates ****\n",
    "\n",
    "        mean_signal = np.nanmean(signal, axis=1) \n",
    "        cds_signal = (mean_signal[1::2] - mean_signal[0::2])\n",
    "        \n",
    "        binned = np.zeros((binned_dict[sensor]))\n",
    "        for j in range(cds_signal.shape[0] // binning):\n",
    "            binned[j] = cds_signal[j*binning:j*binning+binning].mean(axis=0) \n",
    "                   \n",
    "        if sensor == \"FGS1\":\n",
    "            binned = binned.reshape((binned.shape[0],1))\n",
    "        \n",
    "        feats.append(binned)\n",
    "        \n",
    "    return np.stack(feats)\n",
    "    \n",
    "pre_train = np.concatenate([preproc(f'{dataset}', adc_info, \"FGS1\", 30*12), preproc(f'{dataset}', adc_info, \"AIRS-CH0\", 30)], axis=2)"
   ]
  },
  {
   "cell_type": "markdown",
   "id": "c5003de6",
   "metadata": {
    "papermill": {
     "duration": 0.005442,
     "end_time": "2024-09-09T18:39:33.760128",
     "exception": false,
     "start_time": "2024-09-09T18:39:33.754686",
     "status": "completed"
    },
    "tags": []
   },
   "source": [
    "# Modelization"
   ]
  },
  {
   "cell_type": "code",
   "execution_count": 4,
   "id": "0f0263fb",
   "metadata": {
    "execution": {
     "iopub.execute_input": "2024-09-09T18:39:33.773120Z",
     "iopub.status.busy": "2024-09-09T18:39:33.772680Z",
     "iopub.status.idle": "2024-09-09T18:39:33.847038Z",
     "shell.execute_reply": "2024-09-09T18:39:33.845758Z"
    },
    "papermill": {
     "duration": 0.084271,
     "end_time": "2024-09-09T18:39:33.849870",
     "exception": false,
     "start_time": "2024-09-09T18:39:33.765599",
     "status": "completed"
    },
    "tags": []
   },
   "outputs": [
    {
     "name": "stderr",
     "output_type": "stream",
     "text": [
      "100%|██████████| 1/1 [00:00<00:00, 18.14it/s]\n"
     ]
    }
   ],
   "source": [
    "def phase_detector(signal):\n",
    "    \n",
    "    MIN = np.argmin(signal[30:140])+30\n",
    "    signal1 = signal[:MIN ]\n",
    "    signal2 = signal[MIN :]\n",
    "\n",
    "    first_derivative1 = np.gradient(signal1)\n",
    "    first_derivative1 /= first_derivative1.max()\n",
    "    first_derivative2 = np.gradient(signal2)\n",
    "    first_derivative2 /= first_derivative2.max()\n",
    "\n",
    "    phase1 = np.argmin(first_derivative1)\n",
    "    phase2 = np.argmax(first_derivative2) + MIN\n",
    "\n",
    "    return phase1, phase2\n",
    "    \n",
    "def objective(s):\n",
    "    \n",
    "    best_q = 1e10\n",
    "    for i in range(4) :\n",
    "        delta = 2\n",
    "        x = list(range(signal.shape[0]-delta*4))\n",
    "        y = signal[:p1-delta].tolist() + (signal[p1+delta:p2 - delta] * (1 + s)).tolist() + signal[p2+delta:].tolist()\n",
    "        \n",
    "        z = np.polyfit(x, y, deg=i)\n",
    "        p = np.poly1d(z)\n",
    "        q = np.abs(p(x) - y).mean()\n",
    "    \n",
    "    if q < best_q :\n",
    "        best_q = q\n",
    "    \n",
    "    return q\n",
    "\n",
    "\n",
    "all_s = []\n",
    "for i in tqdm(range(len(adc_info))):\n",
    "    \n",
    "    signal = pre_train[i,:,1:].mean(axis=1)\n",
    "    p1,p2 = phase_detector(signal)\n",
    " \n",
    "    r = minimize(\n",
    "                objective,\n",
    "                [0.0001],\n",
    "                method= 'Nelder-Mead'\n",
    "                  )\n",
    "    s = r.x[0]\n",
    "    all_s.append(s)\n",
    "    \n",
    "all_s = np.repeat(np.array(all_s), 283).reshape((len(all_s), 283))        "
   ]
  },
  {
   "cell_type": "markdown",
   "id": "125f645e",
   "metadata": {
    "papermill": {
     "duration": 0.006836,
     "end_time": "2024-09-09T18:39:33.863028",
     "exception": false,
     "start_time": "2024-09-09T18:39:33.856192",
     "status": "completed"
    },
    "tags": []
   },
   "source": [
    "# Predictions with Ridge model"
   ]
  },
  {
   "cell_type": "code",
   "execution_count": 5,
   "id": "4559383b",
   "metadata": {
    "execution": {
     "iopub.execute_input": "2024-09-09T18:39:33.877106Z",
     "iopub.status.busy": "2024-09-09T18:39:33.876053Z",
     "iopub.status.idle": "2024-09-09T18:39:33.941303Z",
     "shell.execute_reply": "2024-09-09T18:39:33.939480Z"
    },
    "papermill": {
     "duration": 0.077008,
     "end_time": "2024-09-09T18:39:33.945867",
     "exception": false,
     "start_time": "2024-09-09T18:39:33.868859",
     "status": "completed"
    },
    "tags": []
   },
   "outputs": [
    {
     "data": {
      "text/html": [
       "<div>\n",
       "<style scoped>\n",
       "    .dataframe tbody tr th:only-of-type {\n",
       "        vertical-align: middle;\n",
       "    }\n",
       "\n",
       "    .dataframe tbody tr th {\n",
       "        vertical-align: top;\n",
       "    }\n",
       "\n",
       "    .dataframe thead th {\n",
       "        text-align: right;\n",
       "    }\n",
       "</style>\n",
       "<table border=\"1\" class=\"dataframe\">\n",
       "  <thead>\n",
       "    <tr style=\"text-align: right;\">\n",
       "      <th></th>\n",
       "      <th>0</th>\n",
       "      <th>1</th>\n",
       "      <th>2</th>\n",
       "      <th>3</th>\n",
       "      <th>4</th>\n",
       "      <th>5</th>\n",
       "      <th>6</th>\n",
       "      <th>7</th>\n",
       "      <th>8</th>\n",
       "      <th>9</th>\n",
       "      <th>...</th>\n",
       "      <th>273</th>\n",
       "      <th>274</th>\n",
       "      <th>275</th>\n",
       "      <th>276</th>\n",
       "      <th>277</th>\n",
       "      <th>278</th>\n",
       "      <th>279</th>\n",
       "      <th>280</th>\n",
       "      <th>281</th>\n",
       "      <th>282</th>\n",
       "    </tr>\n",
       "  </thead>\n",
       "  <tbody>\n",
       "    <tr>\n",
       "      <th>0</th>\n",
       "      <td>0.002677</td>\n",
       "      <td>0.002707</td>\n",
       "      <td>0.0027</td>\n",
       "      <td>0.002696</td>\n",
       "      <td>0.002697</td>\n",
       "      <td>0.002689</td>\n",
       "      <td>0.002689</td>\n",
       "      <td>0.002698</td>\n",
       "      <td>0.002695</td>\n",
       "      <td>0.002691</td>\n",
       "      <td>...</td>\n",
       "      <td>0.002704</td>\n",
       "      <td>0.002704</td>\n",
       "      <td>0.002703</td>\n",
       "      <td>0.002703</td>\n",
       "      <td>0.002703</td>\n",
       "      <td>0.002704</td>\n",
       "      <td>0.002704</td>\n",
       "      <td>0.002704</td>\n",
       "      <td>0.002702</td>\n",
       "      <td>0.002701</td>\n",
       "    </tr>\n",
       "  </tbody>\n",
       "</table>\n",
       "<p>1 rows × 283 columns</p>\n",
       "</div>"
      ],
      "text/plain": [
       "        0         1       2         3         4         5         6    \\\n",
       "0  0.002677  0.002707  0.0027  0.002696  0.002697  0.002689  0.002689   \n",
       "\n",
       "        7         8         9    ...       273       274       275       276  \\\n",
       "0  0.002698  0.002695  0.002691  ...  0.002704  0.002704  0.002703  0.002703   \n",
       "\n",
       "        277       278       279       280       281       282  \n",
       "0  0.002703  0.002704  0.002704  0.002704  0.002702  0.002701  \n",
       "\n",
       "[1 rows x 283 columns]"
      ]
     },
     "execution_count": 5,
     "metadata": {},
     "output_type": "execute_result"
    }
   ],
   "source": [
    "model = joblib.load(\"/kaggle/input/adc24-meta-model-ridge/model_ridge_10_22_delta2.joblib\")\n",
    "pred = model.predict(all_s)\n",
    "pd.DataFrame(pred)"
   ]
  },
  {
   "cell_type": "markdown",
   "id": "55256707",
   "metadata": {
    "papermill": {
     "duration": 0.012154,
     "end_time": "2024-09-09T18:39:33.970831",
     "exception": false,
     "start_time": "2024-09-09T18:39:33.958677",
     "status": "completed"
    },
    "tags": []
   },
   "source": [
    "# Submission"
   ]
  },
  {
   "cell_type": "code",
   "execution_count": 6,
   "id": "5d011ff0",
   "metadata": {
    "execution": {
     "iopub.execute_input": "2024-09-09T18:39:34.000287Z",
     "iopub.status.busy": "2024-09-09T18:39:33.998717Z",
     "iopub.status.idle": "2024-09-09T18:39:34.067879Z",
     "shell.execute_reply": "2024-09-09T18:39:34.066508Z"
    },
    "papermill": {
     "duration": 0.086672,
     "end_time": "2024-09-09T18:39:34.070704",
     "exception": false,
     "start_time": "2024-09-09T18:39:33.984032",
     "status": "completed"
    },
    "tags": []
   },
   "outputs": [
    {
     "data": {
      "text/html": [
       "<div>\n",
       "<style scoped>\n",
       "    .dataframe tbody tr th:only-of-type {\n",
       "        vertical-align: middle;\n",
       "    }\n",
       "\n",
       "    .dataframe tbody tr th {\n",
       "        vertical-align: top;\n",
       "    }\n",
       "\n",
       "    .dataframe thead th {\n",
       "        text-align: right;\n",
       "    }\n",
       "</style>\n",
       "<table border=\"1\" class=\"dataframe\">\n",
       "  <thead>\n",
       "    <tr style=\"text-align: right;\">\n",
       "      <th></th>\n",
       "      <th>wl_1</th>\n",
       "      <th>wl_2</th>\n",
       "      <th>wl_3</th>\n",
       "      <th>wl_4</th>\n",
       "      <th>wl_5</th>\n",
       "      <th>wl_6</th>\n",
       "      <th>wl_7</th>\n",
       "      <th>wl_8</th>\n",
       "      <th>wl_9</th>\n",
       "      <th>wl_10</th>\n",
       "      <th>...</th>\n",
       "      <th>sigma_274</th>\n",
       "      <th>sigma_275</th>\n",
       "      <th>sigma_276</th>\n",
       "      <th>sigma_277</th>\n",
       "      <th>sigma_278</th>\n",
       "      <th>sigma_279</th>\n",
       "      <th>sigma_280</th>\n",
       "      <th>sigma_281</th>\n",
       "      <th>sigma_282</th>\n",
       "      <th>sigma_283</th>\n",
       "    </tr>\n",
       "    <tr>\n",
       "      <th>planet_id</th>\n",
       "      <th></th>\n",
       "      <th></th>\n",
       "      <th></th>\n",
       "      <th></th>\n",
       "      <th></th>\n",
       "      <th></th>\n",
       "      <th></th>\n",
       "      <th></th>\n",
       "      <th></th>\n",
       "      <th></th>\n",
       "      <th></th>\n",
       "      <th></th>\n",
       "      <th></th>\n",
       "      <th></th>\n",
       "      <th></th>\n",
       "      <th></th>\n",
       "      <th></th>\n",
       "      <th></th>\n",
       "      <th></th>\n",
       "      <th></th>\n",
       "      <th></th>\n",
       "    </tr>\n",
       "  </thead>\n",
       "  <tbody>\n",
       "    <tr>\n",
       "      <th>499191466</th>\n",
       "      <td>0.002677</td>\n",
       "      <td>0.002707</td>\n",
       "      <td>0.0027</td>\n",
       "      <td>0.002696</td>\n",
       "      <td>0.002697</td>\n",
       "      <td>0.002689</td>\n",
       "      <td>0.002689</td>\n",
       "      <td>0.002698</td>\n",
       "      <td>0.002695</td>\n",
       "      <td>0.002691</td>\n",
       "      <td>...</td>\n",
       "      <td>0.000145</td>\n",
       "      <td>0.000145</td>\n",
       "      <td>0.000145</td>\n",
       "      <td>0.000145</td>\n",
       "      <td>0.000145</td>\n",
       "      <td>0.000145</td>\n",
       "      <td>0.000145</td>\n",
       "      <td>0.000145</td>\n",
       "      <td>0.000145</td>\n",
       "      <td>0.000145</td>\n",
       "    </tr>\n",
       "  </tbody>\n",
       "</table>\n",
       "<p>1 rows × 566 columns</p>\n",
       "</div>"
      ],
      "text/plain": [
       "               wl_1      wl_2    wl_3      wl_4      wl_5      wl_6      wl_7  \\\n",
       "planet_id                                                                       \n",
       "499191466  0.002677  0.002707  0.0027  0.002696  0.002697  0.002689  0.002689   \n",
       "\n",
       "               wl_8      wl_9     wl_10  ...  sigma_274  sigma_275  sigma_276  \\\n",
       "planet_id                                ...                                    \n",
       "499191466  0.002698  0.002695  0.002691  ...   0.000145   0.000145   0.000145   \n",
       "\n",
       "           sigma_277  sigma_278  sigma_279  sigma_280  sigma_281  sigma_282  \\\n",
       "planet_id                                                                     \n",
       "499191466   0.000145   0.000145   0.000145   0.000145   0.000145   0.000145   \n",
       "\n",
       "           sigma_283  \n",
       "planet_id             \n",
       "499191466   0.000145  \n",
       "\n",
       "[1 rows x 566 columns]"
      ]
     },
     "execution_count": 6,
     "metadata": {},
     "output_type": "execute_result"
    }
   ],
   "source": [
    "ss = pd.read_csv('/kaggle/input/ariel-data-challenge-2024/sample_submission.csv')\n",
    "sigma = np.ones_like(all_s) * 0.000145 \n",
    "pred = pred.clip(0) \n",
    "submission = pd.DataFrame(np.concatenate([pred,sigma], axis=1), columns=ss.columns[1:])\n",
    "submission.index = adc_info.index\n",
    "submission.to_csv('submission.csv')\n",
    "submission\n"
   ]
  }
 ],
 "metadata": {
  "kaggle": {
   "accelerator": "none",
   "dataSources": [
    {
     "databundleVersionId": 9188054,
     "sourceId": 70367,
     "sourceType": "competition"
    },
    {
     "datasetId": 5628160,
     "sourceId": 9331726,
     "sourceType": "datasetVersion"
    }
   ],
   "dockerImageVersionId": 30761,
   "isGpuEnabled": false,
   "isInternetEnabled": false,
   "language": "python",
   "sourceType": "notebook"
  },
  "kernelspec": {
   "display_name": "Python 3",
   "language": "python",
   "name": "python3"
  },
  "language_info": {
   "codemirror_mode": {
    "name": "ipython",
    "version": 3
   },
   "file_extension": ".py",
   "mimetype": "text/x-python",
   "name": "python",
   "nbconvert_exporter": "python",
   "pygments_lexer": "ipython3",
   "version": "3.10.14"
  },
  "papermill": {
   "default_parameters": {},
   "duration": 20.301538,
   "end_time": "2024-09-09T18:39:34.800455",
   "environment_variables": {},
   "exception": null,
   "input_path": "__notebook__.ipynb",
   "output_path": "__notebook__.ipynb",
   "parameters": {},
   "start_time": "2024-09-09T18:39:14.498917",
   "version": "2.6.0"
  }
 },
 "nbformat": 4,
 "nbformat_minor": 5
}
